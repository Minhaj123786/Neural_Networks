{
 "cells": [
  {
   "cell_type": "code",
   "execution_count": 1,
   "id": "f945d316",
   "metadata": {},
   "outputs": [],
   "source": [
    "import tensorflow as tf\n",
    "import os\n",
    "import matplotlib.pyplot as plt\n",
    "import numpy as np\n",
    "import cv2"
   ]
  },
  {
   "cell_type": "code",
   "execution_count": 2,
   "id": "39d3eb83",
   "metadata": {},
   "outputs": [],
   "source": [
    "from tensorflow import keras\n",
    "from tensorflow.keras import layers, models"
   ]
  },
  {
   "cell_type": "code",
   "execution_count": 3,
   "id": "ecc7565c",
   "metadata": {},
   "outputs": [],
   "source": [
    "Classes = ['angry','disgust','fear','happy','neutral','sad','surprise']"
   ]
  },
  {
   "cell_type": "code",
   "execution_count": 4,
   "id": "e6216df9",
   "metadata": {},
   "outputs": [],
   "source": [
    "#Datadirectory = r\"C:\\Users\\Yaser\\OneDrive\\01. MSc Data Analytics\\08. Neural Networks\\Group Project\\Data\\train\"\n",
    "Datadirectory = r\"C:\\Users\\minha\\OneDrive\\Postgrad\\MTH767P - Neural Networks\\archive\\train\""
   ]
  },
  {
   "cell_type": "code",
   "execution_count": 5,
   "id": "c92438af",
   "metadata": {},
   "outputs": [
    {
     "data": {
      "image/png": "[encoded data removed]",
      "text/plain": [
       "<Figure size 432x288 with 1 Axes>"
      ]
     },
     "metadata": {
      "needs_background": "light"
     },
     "output_type": "display_data"
    }
   ],
   "source": [
    "for category in Classes:\n",
    "    path = os.path.join(Datadirectory, category)\n",
    "    for img in os.listdir(path):\n",
    "        img_array = cv2.imread(os.path.join(path,img))\n",
    "        plt.imshow(cv2.cvtColor(img_array, cv2.COLOR_BGR2RGB))\n",
    "        plt.show()\n",
    "        break\n",
    "    break\n",
    "      # remove second break to see all seven classes"
   ]
  },
  {
   "cell_type": "code",
   "execution_count": 6,
   "id": "4b8aa8c4",
   "metadata": {},
   "outputs": [],
   "source": [
    "img_size = 48"
   ]
  },
  {
   "cell_type": "markdown",
   "id": "38e38283",
   "metadata": {},
   "source": [
    "## Loading Training Set"
   ]
  },
  {
   "cell_type": "code",
   "execution_count": 7,
   "id": "01b5a3b4",
   "metadata": {},
   "outputs": [],
   "source": [
    "training_data = []\n",
    "\n",
    "def create_training_data():\n",
    "    for category in Classes:\n",
    "        path = os.path.join(Datadirectory, category)\n",
    "        class_num = Classes.index(category)\n",
    "        for img in os.listdir(path):\n",
    "            try:\n",
    "                img_array = cv2.imread(os.path.join(path,img))\n",
    "                img_array = cv2.cvtColor(img_array, cv2.COLOR_BGR2GRAY)\n",
    "                new_array = cv2.resize(img_array, (img_size,img_size))\n",
    "                training_data.append([new_array,class_num])\n",
    "            except Exception as e:\n",
    "                    print(e)\n",
    "                    pass\n",
    "\n",
    "    "
   ]
  },
  {
   "cell_type": "code",
   "execution_count": 8,
   "id": "1fc793cb",
   "metadata": {},
   "outputs": [],
   "source": [
    "create_training_data()"
   ]
  },
  {
   "cell_type": "code",
   "execution_count": 9,
   "id": "7695aaf5",
   "metadata": {},
   "outputs": [
    {
     "name": "stderr",
     "output_type": "stream",
     "text": [
      "C:\\Users\\minha\\AppData\\Local\\Temp/ipykernel_15344/543908747.py:1: VisibleDeprecationWarning: Creating an ndarray from ragged nested sequences (which is a list-or-tuple of lists-or-tuples-or ndarrays with different lengths or shapes) is deprecated. If you meant to do this, you must specify 'dtype=object' when creating the ndarray.\n",
      "  np.array(training_data).shape\n"
     ]
    },
    {
     "data": {
      "text/plain": [
       "(28709, 2)"
      ]
     },
     "execution_count": 9,
     "metadata": {},
     "output_type": "execute_result"
    }
   ],
   "source": [
    "np.array(training_data).shape"
   ]
  },
  {
   "cell_type": "code",
   "execution_count": 10,
   "id": "d3e2716a",
   "metadata": {},
   "outputs": [],
   "source": [
    "import random\n",
    "random.shuffle(training_data)"
   ]
  },
  {
   "cell_type": "code",
   "execution_count": 11,
   "id": "cb8b96fd",
   "metadata": {},
   "outputs": [],
   "source": [
    "train_images = []\n",
    "train_labels = []\n",
    "\n",
    "for features, labels in training_data:\n",
    "    train_images.append(features)\n",
    "    train_labels.append(labels)\n",
    "\n",
    "train_images = np.array(train_images).reshape(-1, img_size, img_size, 1)\n",
    "train_labels = np.array(train_labels)[0:]\n"
   ]
  },
  {
   "cell_type": "code",
   "execution_count": 12,
   "id": "b0289ac3",
   "metadata": {},
   "outputs": [
    {
     "data": {
      "text/plain": [
       "(28709, 48, 48, 1)"
      ]
     },
     "execution_count": 12,
     "metadata": {},
     "output_type": "execute_result"
    }
   ],
   "source": [
    "train_images.shape"
   ]
  },
  {
   "cell_type": "code",
   "execution_count": 13,
   "id": "5a51bc15",
   "metadata": {},
   "outputs": [
    {
     "data": {
      "text/plain": [
       "(28709,)"
      ]
     },
     "execution_count": 13,
     "metadata": {},
     "output_type": "execute_result"
    }
   ],
   "source": [
    "train_labels.shape"
   ]
  },
  {
   "cell_type": "code",
   "execution_count": 14,
   "id": "2d066751",
   "metadata": {},
   "outputs": [],
   "source": [
    "#train_images = train_images[11000,:]"
   ]
  },
  {
   "cell_type": "code",
   "execution_count": 15,
   "id": "c43f8fde",
   "metadata": {},
   "outputs": [],
   "source": [
    "x = train_images[0:]"
   ]
  },
  {
   "cell_type": "code",
   "execution_count": 16,
   "id": "863abed8",
   "metadata": {},
   "outputs": [
    {
     "data": {
      "text/plain": [
       "(28709, 48, 48, 1)"
      ]
     },
     "execution_count": 16,
     "metadata": {},
     "output_type": "execute_result"
    }
   ],
   "source": [
    "x.shape"
   ]
  },
  {
   "cell_type": "code",
   "execution_count": 17,
   "id": "0d87c553",
   "metadata": {},
   "outputs": [],
   "source": [
    "# Normalizing to between 0 and 1\n",
    "\n",
    "train_images = x/255.0"
   ]
  },
  {
   "cell_type": "markdown",
   "id": "7a3946d5",
   "metadata": {},
   "source": [
    "## Loading Testing Set"
   ]
  },
  {
   "cell_type": "code",
   "execution_count": 18,
   "id": "f308dd9a",
   "metadata": {},
   "outputs": [],
   "source": [
    "#Datadirectory_test = r\"C:\\Users\\Yaser\\OneDrive\\01. MSc Data Analytics\\08. Neural Networks\\Group Project\\Data\\test\"\n",
    "Datadirectory_test = r\"C:\\Users\\minha\\OneDrive\\Postgrad\\MTH767P - Neural Networks\\archive\\test\"\n"
   ]
  },
  {
   "cell_type": "code",
   "execution_count": 19,
   "id": "a8f0e924",
   "metadata": {},
   "outputs": [],
   "source": [
    "testing_data = []\n",
    "\n",
    "def create_testing_data():\n",
    "    for category in Classes:\n",
    "        path = os.path.join(Datadirectory_test, category)\n",
    "        class_num = Classes.index(category)\n",
    "        for img in os.listdir(path):\n",
    "            try:\n",
    "                img_array = cv2.imread(os.path.join(path,img))\n",
    "                img_array = cv2.cvtColor(img_array, cv2.COLOR_BGR2GRAY)\n",
    "                new_array = cv2.resize(img_array, (img_size,img_size))\n",
    "                testing_data.append([new_array,class_num])\n",
    "            except Exception as e:\n",
    "                    pass"
   ]
  },
  {
   "cell_type": "code",
   "execution_count": 20,
   "id": "83af2add",
   "metadata": {},
   "outputs": [],
   "source": [
    "create_testing_data()"
   ]
  },
  {
   "cell_type": "code",
   "execution_count": 21,
   "id": "d8818515",
   "metadata": {},
   "outputs": [
    {
     "name": "stderr",
     "output_type": "stream",
     "text": [
      "C:\\Users\\minha\\AppData\\Local\\Temp/ipykernel_15344/47909274.py:1: VisibleDeprecationWarning: Creating an ndarray from ragged nested sequences (which is a list-or-tuple of lists-or-tuples-or ndarrays with different lengths or shapes) is deprecated. If you meant to do this, you must specify 'dtype=object' when creating the ndarray.\n",
      "  np.array(testing_data).shape\n"
     ]
    },
    {
     "data": {
      "text/plain": [
       "(7178, 2)"
      ]
     },
     "execution_count": 21,
     "metadata": {},
     "output_type": "execute_result"
    }
   ],
   "source": [
    "np.array(testing_data).shape"
   ]
  },
  {
   "cell_type": "code",
   "execution_count": 22,
   "id": "ebc698cb",
   "metadata": {},
   "outputs": [],
   "source": [
    "random.shuffle(testing_data)"
   ]
  },
  {
   "cell_type": "code",
   "execution_count": 23,
   "id": "eca0bc59",
   "metadata": {},
   "outputs": [],
   "source": [
    "test_images = []\n",
    "test_labels = []\n",
    "\n",
    "for features, labels in testing_data:\n",
    "    test_images.append(features)\n",
    "    test_labels.append(labels)\n",
    "\n",
    "test_images = np.array(test_images).reshape(-1, img_size, img_size, 1)\n",
    "test_labels = np.array(test_labels)[6000:]"
   ]
  },
  {
   "cell_type": "code",
   "execution_count": 24,
   "id": "222db814",
   "metadata": {},
   "outputs": [],
   "source": [
    "y = test_images[6000:]\n",
    "test_images = y/255.0"
   ]
  },
  {
   "cell_type": "code",
   "execution_count": 25,
   "id": "704216fc",
   "metadata": {},
   "outputs": [
    {
     "data": {
      "text/plain": [
       "1178"
      ]
     },
     "execution_count": 25,
     "metadata": {},
     "output_type": "execute_result"
    }
   ],
   "source": [
    "len(test_images)"
   ]
  },
  {
   "cell_type": "markdown",
   "id": "0e436f8e",
   "metadata": {},
   "source": [
    "## Training with Convolutional Neural Network"
   ]
  },
  {
   "cell_type": "code",
   "execution_count": 26,
   "id": "909f72d2",
   "metadata": {},
   "outputs": [],
   "source": [
    "model = models.Sequential()\n",
    "\n",
    "model.add(layers.Conv2D(32, kernel_size=(3, 3), activation='relu', input_shape=(48,48,1)))\n",
    "model.add(layers.Conv2D(64, kernel_size=(3, 3), activation='relu'))\n",
    "model.add(layers.MaxPooling2D(pool_size=(2, 2)))\n",
    "model.add(layers.Dropout(0.25))\n",
    "\n",
    "model.add(layers.Conv2D(128, kernel_size=(3, 3), activation='relu'))\n",
    "model.add(layers.MaxPooling2D(pool_size=(2, 2)))\n",
    "model.add(layers.Conv2D(128, kernel_size=(3, 3), activation='relu'))\n",
    "model.add(layers.MaxPooling2D(pool_size=(2, 2)))\n",
    "model.add(layers.Dropout(0.25))\n",
    "\n",
    "model.add(layers.Flatten())\n",
    "model.add(layers.Dense(1024, activation='relu'))\n",
    "model.add(layers.Dropout(0.5))\n",
    "model.add(layers.Dense(7, activation='softmax'))"
   ]
  },
  {
   "cell_type": "code",
   "execution_count": 27,
   "id": "e5778f95",
   "metadata": {},
   "outputs": [
    {
     "name": "stdout",
     "output_type": "stream",
     "text": [
      "Model: \"sequential\"\n",
      "_________________________________________________________________\n",
      " Layer (type)                Output Shape              Param #   \n",
      "=================================================================\n",
      " conv2d (Conv2D)             (None, 46, 46, 32)        320       \n",
      "                                                                 \n",
      " conv2d_1 (Conv2D)           (None, 44, 44, 64)        18496     \n",
      "                                                                 \n",
      " max_pooling2d (MaxPooling2D  (None, 22, 22, 64)       0         \n",
      " )                                                               \n",
      "                                                                 \n",
      " dropout (Dropout)           (None, 22, 22, 64)        0         \n",
      "                                                                 \n",
      " conv2d_2 (Conv2D)           (None, 20, 20, 128)       73856     \n",
      "                                                                 \n",
      " max_pooling2d_1 (MaxPooling  (None, 10, 10, 128)      0         \n",
      " 2D)                                                             \n",
      "                                                                 \n",
      " conv2d_3 (Conv2D)           (None, 8, 8, 128)         147584    \n",
      "                                                                 \n",
      " max_pooling2d_2 (MaxPooling  (None, 4, 4, 128)        0         \n",
      " 2D)                                                             \n",
      "                                                                 \n",
      " dropout_1 (Dropout)         (None, 4, 4, 128)         0         \n",
      "                                                                 \n",
      " flatten (Flatten)           (None, 2048)              0         \n",
      "                                                                 \n",
      " dense (Dense)               (None, 1024)              2098176   \n",
      "                                                                 \n",
      " dropout_2 (Dropout)         (None, 1024)              0         \n",
      "                                                                 \n",
      " dense_1 (Dense)             (None, 7)                 7175      \n",
      "                                                                 \n",
      "=================================================================\n",
      "Total params: 2,345,607\n",
      "Trainable params: 2,345,607\n",
      "Non-trainable params: 0\n",
      "_________________________________________________________________\n"
     ]
    }
   ],
   "source": [
    "model.summary()"
   ]
  },
  {
   "cell_type": "code",
   "execution_count": null,
   "id": "f5756254",
   "metadata": {},
   "outputs": [],
   "source": []
  },
  {
   "cell_type": "code",
   "execution_count": 28,
   "id": "97812973",
   "metadata": {},
   "outputs": [],
   "source": [
    "# conv2D outputs of (None, 57, 57, 64) got flattened into vectors of 36928"
   ]
  },
  {
   "cell_type": "code",
   "execution_count": 29,
   "id": "2768faf1",
   "metadata": {},
   "outputs": [
    {
     "name": "stdout",
     "output_type": "stream",
     "text": [
      "Epoch 1/50\n",
      "898/898 [==============================] - 264s 293ms/step - loss: 1.7627 - accuracy: 0.2829 - val_loss: 1.6170 - val_accuracy: 0.3812\n",
      "Epoch 2/50\n",
      "898/898 [==============================] - 265s 295ms/step - loss: 1.5653 - accuracy: 0.3961 - val_loss: 1.4985 - val_accuracy: 0.4321\n",
      "Epoch 3/50\n",
      "898/898 [==============================] - 163s 181ms/step - loss: 1.4646 - accuracy: 0.4411 - val_loss: 1.4427 - val_accuracy: 0.4465\n",
      "Epoch 4/50\n",
      "898/898 [==============================] - 108s 120ms/step - loss: 1.3866 - accuracy: 0.4700 - val_loss: 1.3354 - val_accuracy: 0.4898\n",
      "Epoch 5/50\n",
      "898/898 [==============================] - 118s 131ms/step - loss: 1.3223 - accuracy: 0.4966 - val_loss: 1.2808 - val_accuracy: 0.5000\n",
      "Epoch 6/50\n",
      "898/898 [==============================] - 117s 130ms/step - loss: 1.2692 - accuracy: 0.5205 - val_loss: 1.2370 - val_accuracy: 0.5331\n",
      "Epoch 7/50\n",
      "898/898 [==============================] - 117s 131ms/step - loss: 1.2232 - accuracy: 0.5383 - val_loss: 1.2074 - val_accuracy: 0.5374\n",
      "Epoch 8/50\n",
      "898/898 [==============================] - 118s 131ms/step - loss: 1.1823 - accuracy: 0.5545 - val_loss: 1.1769 - val_accuracy: 0.5501\n",
      "Epoch 9/50\n",
      "898/898 [==============================] - 117s 130ms/step - loss: 1.1472 - accuracy: 0.5673 - val_loss: 1.1552 - val_accuracy: 0.5569\n",
      "Epoch 10/50\n",
      "898/898 [==============================] - 118s 131ms/step - loss: 1.1127 - accuracy: 0.5842 - val_loss: 1.1263 - val_accuracy: 0.5806\n",
      "Epoch 11/50\n",
      "898/898 [==============================] - 118s 131ms/step - loss: 1.0806 - accuracy: 0.5963 - val_loss: 1.1088 - val_accuracy: 0.5908\n",
      "Epoch 12/50\n",
      "898/898 [==============================] - 118s 131ms/step - loss: 1.0548 - accuracy: 0.6066 - val_loss: 1.0883 - val_accuracy: 0.5815\n",
      "Epoch 13/50\n",
      "898/898 [==============================] - 118s 131ms/step - loss: 1.0240 - accuracy: 0.6166 - val_loss: 1.0818 - val_accuracy: 0.5959\n",
      "Epoch 14/50\n",
      "898/898 [==============================] - 117s 131ms/step - loss: 0.9937 - accuracy: 0.6318 - val_loss: 1.0857 - val_accuracy: 0.5891\n",
      "Epoch 15/50\n",
      "898/898 [==============================] - 124s 138ms/step - loss: 0.9666 - accuracy: 0.6426 - val_loss: 1.0600 - val_accuracy: 0.6104\n",
      "Epoch 16/50\n",
      "898/898 [==============================] - 121s 135ms/step - loss: 0.9387 - accuracy: 0.6535 - val_loss: 1.0472 - val_accuracy: 0.6087\n",
      "Epoch 17/50\n",
      "898/898 [==============================] - 118s 132ms/step - loss: 0.9086 - accuracy: 0.6652 - val_loss: 1.0358 - val_accuracy: 0.6188\n",
      "Epoch 18/50\n",
      "898/898 [==============================] - 121s 134ms/step - loss: 0.8809 - accuracy: 0.6727 - val_loss: 1.0276 - val_accuracy: 0.6104\n",
      "Epoch 19/50\n",
      "898/898 [==============================] - 119s 132ms/step - loss: 0.8493 - accuracy: 0.6861 - val_loss: 1.0253 - val_accuracy: 0.6146\n",
      "Epoch 20/50\n",
      "898/898 [==============================] - 135s 151ms/step - loss: 0.8252 - accuracy: 0.6988 - val_loss: 1.0108 - val_accuracy: 0.6273\n",
      "Epoch 21/50\n",
      "898/898 [==============================] - 126s 140ms/step - loss: 0.7970 - accuracy: 0.7088 - val_loss: 1.0246 - val_accuracy: 0.6214\n",
      "Epoch 22/50\n",
      "898/898 [==============================] - 126s 141ms/step - loss: 0.7616 - accuracy: 0.7212 - val_loss: 1.0079 - val_accuracy: 0.6290\n",
      "Epoch 23/50\n",
      "898/898 [==============================] - 126s 140ms/step - loss: 0.7338 - accuracy: 0.7340 - val_loss: 1.0329 - val_accuracy: 0.6222\n",
      "Epoch 24/50\n",
      "898/898 [==============================] - 125s 139ms/step - loss: 0.7115 - accuracy: 0.7401 - val_loss: 1.0196 - val_accuracy: 0.6375\n",
      "Epoch 25/50\n",
      "898/898 [==============================] - 127s 141ms/step - loss: 0.6819 - accuracy: 0.7515 - val_loss: 1.0371 - val_accuracy: 0.6265\n",
      "Epoch 26/50\n",
      "898/898 [==============================] - 126s 140ms/step - loss: 0.6546 - accuracy: 0.7609 - val_loss: 1.0317 - val_accuracy: 0.6324\n",
      "Epoch 27/50\n",
      "898/898 [==============================] - 127s 142ms/step - loss: 0.6310 - accuracy: 0.7732 - val_loss: 1.0262 - val_accuracy: 0.6375\n",
      "Epoch 28/50\n",
      "898/898 [==============================] - 126s 140ms/step - loss: 0.6002 - accuracy: 0.7824 - val_loss: 1.0276 - val_accuracy: 0.6401\n",
      "Epoch 29/50\n",
      "898/898 [==============================] - 126s 140ms/step - loss: 0.5798 - accuracy: 0.7900 - val_loss: 1.0268 - val_accuracy: 0.6299\n",
      "Epoch 30/50\n",
      "898/898 [==============================] - 125s 140ms/step - loss: 0.5490 - accuracy: 0.7989 - val_loss: 1.0492 - val_accuracy: 0.6282\n",
      "Epoch 31/50\n",
      "898/898 [==============================] - 124s 138ms/step - loss: 0.5277 - accuracy: 0.8088 - val_loss: 1.0708 - val_accuracy: 0.6256\n",
      "Epoch 32/50\n",
      "898/898 [==============================] - 127s 142ms/step - loss: 0.5048 - accuracy: 0.8181 - val_loss: 1.0943 - val_accuracy: 0.6367\n",
      "Epoch 33/50\n",
      "898/898 [==============================] - 124s 139ms/step - loss: 0.4864 - accuracy: 0.8233 - val_loss: 1.0832 - val_accuracy: 0.6384\n",
      "Epoch 34/50\n",
      "898/898 [==============================] - 127s 141ms/step - loss: 0.4722 - accuracy: 0.8311 - val_loss: 1.0844 - val_accuracy: 0.6460\n",
      "Epoch 35/50\n",
      "898/898 [==============================] - 126s 140ms/step - loss: 0.4479 - accuracy: 0.8381 - val_loss: 1.1289 - val_accuracy: 0.6443\n",
      "Epoch 36/50\n",
      "898/898 [==============================] - 126s 140ms/step - loss: 0.4309 - accuracy: 0.8429 - val_loss: 1.1061 - val_accuracy: 0.6401\n",
      "Epoch 37/50\n",
      "898/898 [==============================] - 125s 139ms/step - loss: 0.4157 - accuracy: 0.8475 - val_loss: 1.1023 - val_accuracy: 0.6562\n",
      "Epoch 38/50\n",
      "898/898 [==============================] - 127s 141ms/step - loss: 0.3942 - accuracy: 0.8607 - val_loss: 1.1425 - val_accuracy: 0.6375\n",
      "Epoch 39/50\n",
      "898/898 [==============================] - 128s 142ms/step - loss: 0.3884 - accuracy: 0.8576 - val_loss: 1.1171 - val_accuracy: 0.6545\n",
      "Epoch 40/50\n",
      "898/898 [==============================] - 127s 141ms/step - loss: 0.3671 - accuracy: 0.8692 - val_loss: 1.1501 - val_accuracy: 0.6316\n",
      "Epoch 41/50\n",
      "898/898 [==============================] - 126s 140ms/step - loss: 0.3558 - accuracy: 0.8738 - val_loss: 1.1617 - val_accuracy: 0.6392\n",
      "Epoch 42/50\n",
      "898/898 [==============================] - 129s 144ms/step - loss: 0.3413 - accuracy: 0.8786 - val_loss: 1.1704 - val_accuracy: 0.6409\n",
      "Epoch 43/50\n",
      "898/898 [==============================] - 127s 142ms/step - loss: 0.3331 - accuracy: 0.8803 - val_loss: 1.1658 - val_accuracy: 0.6460\n",
      "Epoch 44/50\n",
      "898/898 [==============================] - 128s 143ms/step - loss: 0.3167 - accuracy: 0.8872 - val_loss: 1.2076 - val_accuracy: 0.6367\n",
      "Epoch 45/50\n",
      "898/898 [==============================] - 128s 142ms/step - loss: 0.3076 - accuracy: 0.8914 - val_loss: 1.1837 - val_accuracy: 0.6324\n",
      "Epoch 46/50\n",
      "898/898 [==============================] - 129s 143ms/step - loss: 0.2971 - accuracy: 0.8933 - val_loss: 1.2059 - val_accuracy: 0.6418\n",
      "Epoch 47/50\n",
      "898/898 [==============================] - 129s 144ms/step - loss: 0.2897 - accuracy: 0.8960 - val_loss: 1.2043 - val_accuracy: 0.6375\n",
      "Epoch 48/50\n",
      "898/898 [==============================] - 128s 142ms/step - loss: 0.2779 - accuracy: 0.9006 - val_loss: 1.2611 - val_accuracy: 0.6460\n",
      "Epoch 49/50\n",
      "898/898 [==============================] - 128s 142ms/step - loss: 0.2725 - accuracy: 0.9032 - val_loss: 1.2499 - val_accuracy: 0.6503\n",
      "Epoch 50/50\n",
      "898/898 [==============================] - 129s 144ms/step - loss: 0.2589 - accuracy: 0.9063 - val_loss: 1.2460 - val_accuracy: 0.6529\n"
     ]
    }
   ],
   "source": [
    "model.compile(optimizer=tf.keras.optimizers.Adam(learning_rate=0.0001, decay=1e-6),\n",
    "              loss=tf.keras.losses.SparseCategoricalCrossentropy(),\n",
    "              metrics=['accuracy'])\n",
    "\n",
    "history = model.fit(train_images, train_labels, epochs=50, \n",
    "                    validation_data=(test_images, test_labels))"
   ]
  },
  {
   "cell_type": "code",
   "execution_count": 82,
   "id": "a9e93a9a",
   "metadata": {},
   "outputs": [
    {
     "name": "stdout",
     "output_type": "stream",
     "text": [
      "37/37 [==============================] - 1s 26ms/step - loss: 1.2460 - accuracy: 0.6529\n",
      "1.2459899187088013 0.6529173027392780\n"
     ]
    }
   ],
   "source": [
    "val_loss, val_acc = model.evaluate(test_images, test_labels)\n",
    "print(val_loss, val_acc)"
   ]
  },
  {
   "cell_type": "code",
   "execution_count": 85,
   "id": "a6719fc2",
   "metadata": {},
   "outputs": [
    {
     "data": {
      "text/plain": [
       "<matplotlib.legend.Legend at 0x2403f832190>"
      ]
     },
     "execution_count": 85,
     "metadata": {},
     "output_type": "execute_result"
    },
    {
     "data": {
      "image/png": "[encoded data removed]",
      "text/plain": [
       "<Figure size 432x288 with 1 Axes>"
      ]
     },
     "metadata": {
      "needs_background": "light"
     },
     "output_type": "display_data"
    }
   ],
   "source": [
    "plt.plot(history.history['accuracy'], label='accuracy')\n",
    "plt.plot(history.history['val_accuracy'], label = 'val_accuracy')\n",
    "plt.xlabel('Epoch')\n",
    "plt.ylabel('Accuracy')\n",
    "plt.ylim([0.3, 1])\n",
    "plt.legend(loc='upper left')"
   ]
  },
  {
   "cell_type": "code",
   "execution_count": 76,
   "id": "5d02d82e",
   "metadata": {},
   "outputs": [],
   "source": [
    "lol= model.predict(test_images)\n",
    "lol=np.argmax(lol, axis=1) "
   ]
  },
  {
   "cell_type": "code",
   "execution_count": 81,
   "id": "497890d9",
   "metadata": {},
   "outputs": [
    {
     "name": "stdout",
     "output_type": "stream",
     "text": [
      "[[0.58 0.01 0.08 0.06 0.12 0.15 0.  ]\n",
      " [0.15 0.7  0.   0.05 0.05 0.05 0.  ]\n",
      " [0.16 0.   0.4  0.05 0.1  0.2  0.09]\n",
      " [0.03 0.   0.03 0.88 0.02 0.03 0.01]\n",
      " [0.06 0.01 0.1  0.09 0.55 0.18 0.01]\n",
      " [0.09 0.   0.11 0.1  0.17 0.5  0.03]\n",
      " [0.05 0.   0.06 0.04 0.02 0.02 0.81]]\n"
     ]
    }
   ],
   "source": [
    "from sklearn.metrics import confusion_matrix\n",
    "\n",
    "#Generate the confusion matrix\n",
    "cf_matrix = confusion_matrix(test_labels.reshape(-1), lol)\n",
    "\n",
    "# Normalizing matrix for more accurate results\n",
    "cf_matrix = np.around(cf_matrix.astype('float') / cf_matrix.sum(axis=1)[:, np.newaxis], decimals=2)\n",
    "\n",
    "print(cf_matrix)"
   ]
  },
  {
   "cell_type": "code",
   "execution_count": 80,
   "id": "876e5436",
   "metadata": {},
   "outputs": [
    {
     "data": {
      "image/png": "[encoded data removed]",
      "text/plain": [
       "<Figure size 864x576 with 2 Axes>"
      ]
     },
     "metadata": {
      "needs_background": "light"
     },
     "output_type": "display_data"
    }
   ],
   "source": [
    "import seaborn as sns\n",
    "\n",
    "\n",
    "plt.figure(figsize=(12, 8))\n",
    "ax = sns.heatmap(cf_matrix, annot=True, cmap='Blues')\n",
    "#plt.tight_layout()\n",
    "\n",
    "ax.set_title('Seaborn Confusion Matrix with Labels\\n', size=14);\n",
    "ax.set_xlabel('Predicted Class Labels', size=12)\n",
    "ax.set_ylabel('Actual Class Labels ', size=12);\n",
    "\n",
    "## Ticket labels\n",
    "ax.xaxis.set_ticklabels(Classes)\n",
    "ax.yaxis.set_ticklabels(Classes)\n",
    "plt.tick_params(axis=\"both\", labelsize=10)\n",
    "## Display the visualization of the Confusion Matrix.\n",
    "\n",
    "plt.show()"
   ]
  },
  {
   "cell_type": "code",
   "execution_count": null,
   "id": "64547f91",
   "metadata": {},
   "outputs": [],
   "source": []
  }
 ],
 "metadata": {
  "kernelspec": {
   "display_name": "Python 3 (ipykernel)",
   "language": "python",
   "name": "python3"
  },
  "language_info": {
   "codemirror_mode": {
    "name": "ipython",
    "version": 3
   },
   "file_extension": ".py",
   "mimetype": "text/x-python",
   "name": "python",
   "nbconvert_exporter": "python",
   "pygments_lexer": "ipython3",
   "version": "3.8.8"
  }
 },
 "nbformat": 4,
 "nbformat_minor": 5
}
